{
  "nbformat": 4,
  "nbformat_minor": 0,
  "metadata": {
    "colab": {
      "name": "Regex for extracting timeline.ipynb",
      "provenance": [],
      "collapsed_sections": []
    },
    "kernelspec": {
      "display_name": "Python 3",
      "language": "python",
      "name": "python3"
    },
    "language_info": {
      "codemirror_mode": {
        "name": "ipython",
        "version": 3
      },
      "file_extension": ".py",
      "mimetype": "text/x-python",
      "name": "python",
      "nbconvert_exporter": "python",
      "pygments_lexer": "ipython3",
      "version": "3.6.0"
    }
  },
  "cells": [
    {
      "cell_type": "code",
      "metadata": {
        "id": "pjzXBP1e6f3a"
      },
      "source": [
        "Define a set of patterns for extracting time patterns from text"
      ],
      "execution_count": null,
      "outputs": []
    },
    {
      "cell_type": "code",
      "metadata": {
        "id": "X2eqen9DBAJd",
        "colab": {
          "base_uri": "https://localhost:8080/"
        },
        "outputId": "42bec0aa-8027-4286-9267-64eb45d251df"
      },
      "source": [
        "!pip install numpy\n",
        "!pip install pandas"
      ],
      "execution_count": null,
      "outputs": [
        {
          "output_type": "stream",
          "name": "stdout",
          "text": [
            "Requirement already satisfied: numpy in /usr/local/lib/python3.7/dist-packages (1.19.5)\n",
            "Requirement already satisfied: pandas in /usr/local/lib/python3.7/dist-packages (1.1.5)\n",
            "Requirement already satisfied: pytz>=2017.2 in /usr/local/lib/python3.7/dist-packages (from pandas) (2018.9)\n",
            "Requirement already satisfied: numpy>=1.15.4 in /usr/local/lib/python3.7/dist-packages (from pandas) (1.19.5)\n",
            "Requirement already satisfied: python-dateutil>=2.7.3 in /usr/local/lib/python3.7/dist-packages (from pandas) (2.8.2)\n",
            "Requirement already satisfied: six>=1.5 in /usr/local/lib/python3.7/dist-packages (from python-dateutil>=2.7.3->pandas) (1.15.0)\n"
          ]
        }
      ]
    },
    {
      "cell_type": "code",
      "metadata": {
        "id": "nzcCXt38BAJf",
        "colab": {
          "base_uri": "https://localhost:8080/"
        },
        "outputId": "dbe908f6-ff0a-4819-8944-b48db3db2abc"
      },
      "source": [
        "# Make sure KatherineJohnson.txt and MaryJackson.txt are in the working directory. \n",
        "import os\n",
        "\n",
        "def read_file(file_name):\n",
        "  with open(file_name, \"r\") as f:\n",
        "    return f.read()\n",
        "\n",
        "working_dir = os.getcwd()  # get our working directory\n",
        "text_katherine = read_file(os.path.join(working_dir, 'KatherineJohnson.txt'))\n",
        "print(text_katherine)\n"
      ],
      "execution_count": null,
      "outputs": [
        {
          "output_type": "stream",
          "name": "stdout",
          "text": [
            "Katherine Johnson\n",
            "From Wikipedia, the free encyclopedia\n",
            "\n",
            "Creola Katherine Johnson (née Coleman; August 26, 1918 – February 24, 2020) was an American mathematician whose calculations of orbital mechanics as a NASA employee were critical to the success of the first and subsequent U.S. crewed spaceflights.[1] During her 33-year career at NASA and its predecessor, she earned a reputation for mastering complex manual calculations and helped pioneer the use of computers to perform the tasks.\n",
            "\n",
            "Early life\n",
            "Katherine Johnson was born as Creola Katherine Coleman on August 26, 1918, in White Sulphur Springs, West Virginia, to Joylette Roberta (née Lowe) and Joshua McKinley Coleman.[5][6][7][8] She was the youngest of four children.[9] Her mother was a teacher and her father was a lumberman, farmer, and handyman, and worked at the Greenbrier Hotel.[6][10]\n",
            "\n",
            "External video\n",
            "video icon Interview with West Virginia State University President Anthony Jenkins on Johnson's studies and career, October 21, 2019, C-SPAN\n",
            "\n",
            "After graduating from high school at 14, Johnson enrolled at West Virginia State, a historically black college.[14] As a student, she took every math course offered by the college. Multiple professors mentored her, including the chemist and mathematician Angie Turner King, who had mentored Coleman throughout high school, and W. W. Schieffelin Claytor, the third African-American to receive a Ph.D. in mathematics. Claytor added new mathematics courses just for Johnson.[15] She graduated summa cum laude in 1937, with degrees in mathematics and French, at age 18.[16][12][17] \n",
            "\n",
            "In 1939, after marrying her first husband, James Goble, she left her teaching job and enrolled in a graduate math program. She quit one year later after becoming pregnant and chose to focus on her family life.[14] She was the first African-American woman to attend graduate school at West Virginia University in Morgantown, West Virginia. Through WVSC's president, Dr. John W. Davis, she became one of three African-American students,[14] and the only woman, selected to integrate the graduate school after the 1938 United States Supreme Court ruling Missouri ex rel. Gaines v. Canada. \n",
            "\n",
            "Career\n",
            "Photograph of Johnson sitting at a desk\n",
            "Johnson working as a \"computer\" at NASA in 1966\n",
            "\n",
            "Johnson decided on a career as a research mathematician, although this was a difficult field for African Americans and women to enter. The first jobs she found were in teaching. At a family gathering in 1952, a relative mentioned that the National Advisory Committee for Aeronautics (NACA) was hiring mathematicians.[14] At the Langley Memorial Aeronautical Laboratory, based in Hampton, Virginia, near Langley Field, NACA hired African-American mathematicians as well as whites for their Guidance and Navigation Department. Johnson accepted a job offer from the agency in June 1953.[6]\n",
            "\n",
            "From 1953 to 1958, Johnson worked as a computer,[21] analyzing topics such as gust alleviation for aircraft. Originally assigned to the West Area Computers section supervised by mathematician Dorothy Vaughan, Johnson was reassigned to the Guidance and Control Division of Langley's Flight Research Division. It was staffed by white male engineers.[22] In keeping with state racial segregation laws, and federal workplace segregation introduced under President Woodrow Wilson in the early 20th century, Johnson and the other African-American women in the computing pool were required to work, eat, and use restrooms that were separate from those of their white peers. Their office was labeled as \"Colored Computers\". In an interview with WHRO-TV, Johnson stated that she \"I didn't feel any segregation. I knew it was there, but I didn't feel it.\"[23]\n",
            "\n",
            "NACA disbanded the colored computing pool in 1958 when the agency was superseded by NASA, which adopted digital computers. Although the installation was desegregated,[22] forms of discrimination were still pervasive. \n",
            "\n",
            "From 1958 until her retirement in 1986, Johnson worked as an aerospace technologist, moving during her career to the Spacecraft Controls Branch. She calculated the trajectory for the May 5, 1961 space flight of Alan Shepard, the first American in space.[1] She also calculated the launch window for his 1961 Mercury mission.[25] She plotted backup navigation charts for astronauts in case of electronic failures.[6] When NASA used electronic computers for the first time to calculate John Glenn's orbit around Earth, officials called on Johnson to verify the computer's numbers; Glenn had asked for her specifically and had refused to fly unless Johnson verified the calculations.[1][26][27] Biography.com states these were \"far more difficult calculations, to account for the gravitational pulls of celestial bodies\".[28] Author Margot Lee Shetterly stated, \"So the astronaut who became a hero, looked to this black woman in the still-segregated South at the time as one of the key parts of making sure his mission would be a success.\" She added that, in a time where computing was \"women's work\" and engineering was left to men, \"it really does have to do with us over the course of time sort of not valuing that work that was done by women, however necessary, as much as we might. And it has taken history to get a perspective on that.\"[29]\n",
            "\n",
            "Johnson later worked directly with digital computers. Her ability and reputation for accuracy helped to establish confidence in the new technology.[28] On May 5, 1961, her work helped to ensure that Alan Shepard's Freedom 7 Mercury capsule would be found quickly after landing, using the accurate trajectory that had been established.[30]\n",
            "\n",
            "She also helped to calculate the trajectory for the 1969 Apollo 11 flight to the Moon.[1][28] On 20 July 1969 during the Moon landing, Johnson was at a meeting in the Pocono Mountains. She and a few others crowded around a small television screen watching the first steps on the Moon.[1] In 1970, Johnson worked on the Apollo 13 Moon mission. When the mission was aborted, her work on backup procedures and charts helped set a safe path for the crew's return to Earth,[28] creating a one-star observation system that would allow astronauts to determine their location with accuracy. In a 2010 interview, Johnson recalled, \"Everybody was concerned about them getting there. We were concerned about them getting back.\"[30] Later in her career, Johnson worked on the Space Shuttle program, the Earth Resources Satellite,[1][28] and on plans for a mission to Mars.[31]\n",
            "\n",
            "Johnson spent her later years encouraging students to enter the fields of science, technology, engineering, and mathematics (STEM).[32]\n",
            "\n",
            "Personal life and death\n",
            "Katherine and James Francis Goble had three daughters: Constance, Joylette, and Katherine. The family lived in Newport News, Virginia, from 1953. James died of an inoperable brain tumor in 1956[33] and, three years later, Katherine married James A. Johnson. the pair were married for 60 years until his death in March 2019 at the age of 93.[5][34][35]\n",
            "\n",
            "\n",
            "Text from https://en.wikipedia.org/wiki/Katherine_Johnson, adapted by the teaching team\n",
            "\n"
          ]
        }
      ]
    },
    {
      "cell_type": "markdown",
      "metadata": {
        "id": "1CMr_JYmBAJh"
      },
      "source": [
        "Observation of date patterns:\n",
        "\n",
        "Expression of full date: \"Month Day, Year\", in which Month is expressed by letters (i.e January), Day is expressed by numbers without leading zeros, Year is expressed by 4 letters. For example, \"October 21, 2019\"\n",
        "\n",
        "Expression of Year only: 4 digits only, eg: \"1969\""
      ]
    },
    {
      "cell_type": "markdown",
      "metadata": {
        "id": "Ap186JxsBAJh"
      },
      "source": [
        "#### Task 2: Implement the function *sentence_tokenize_text* so that it splits a text into a list of sentences. "
      ]
    },
    {
      "cell_type": "code",
      "metadata": {
        "id": "jomV13DvBAJh",
        "colab": {
          "base_uri": "https://localhost:8080/"
        },
        "outputId": "7ba9c2fc-f710-4a38-833e-31ccea9fc256"
      },
      "source": [
        "import nltk\n",
        "nltk.download('punkt')\n",
        "from nltk.tokenize import sent_tokenize\n",
        "\n",
        "def sentence_tokenize_text(text):\n",
        "  \"\"\"\n",
        "  :param text: An input text, i.e. a string\n",
        "  :return: A list of strings, where each string is one sentence\n",
        "  \"\"\"\n",
        "  tokenized_sentences=sent_tokenize(text)\n",
        "  return tokenized_sentences\n",
        "#For testing:\n",
        "#sentence_tokenize_text(text_katherine)\n"
      ],
      "execution_count": null,
      "outputs": [
        {
          "output_type": "stream",
          "name": "stdout",
          "text": [
            "[nltk_data] Downloading package punkt to /root/nltk_data...\n",
            "[nltk_data]   Package punkt is already up-to-date!\n"
          ]
        }
      ]
    },
    {
      "cell_type": "markdown",
      "metadata": {
        "id": "9w4p7pIcBAJh"
      },
      "source": [
        "#### Task 3: Implement the function *extract_date_expressions* so that it extracts date expressions from sentences.\n",
        "The function should take in our list of sentences and return a pandas DataFrame. This DataFrame has two columns:\n",
        "- Date: The extracted date expressions\n",
        "- Sentence: The sentence from which a data expression was extracted \n",
        "\n",
        "No libraries were used to extract date expressions"
      ]
    },
    {
      "cell_type": "code",
      "metadata": {
        "collapsed": true,
        "id": "5N8NDSJPBAJi",
        "colab": {
          "base_uri": "https://localhost:8080/",
          "height": 726
        },
        "outputId": "0de20a6d-7402-4ef0-d608-2a337690b903"
      },
      "source": [
        "\n",
        "import re\n",
        "import pandas as pd  \n",
        "\n",
        "def extract_date_expressions(sentences):\n",
        "  \"\"\"\n",
        "  :param sentences: A list of strings, where each string is one sentences\n",
        "  :return: A pandas DataFrame with the columns \n",
        "                \"Date\" (extracted date expressions as a string)\n",
        "                \"Sentence\" (sentences from which a date expression was extracted)\n",
        "  \"\"\"\n",
        "  dates=[]\n",
        "  for sent in sentences:\n",
        "      dates.append(re.findall('[0-9]{4}|[A-Z]{1}[a-z]{1,9} [0-9]{1,2}, [0-9]{4}', sent))\n",
        "  dates=([x[0] for x in dates if x])\n",
        "  events=[]\n",
        "  for sent in sentences:\n",
        "      if any(date in sent for date in dates):\n",
        "          events.append(sent)\n",
        "  dict_events = {'Date': dates,'Sentence': events} \n",
        "  df = pd.DataFrame(dict_events)\n",
        "  return df\n",
        "\n",
        "# Apply the function to the tokenized text:\n",
        "df_dates_katherine =  extract_date_expressions(sentence_tokenize_text(text_katherine)) \n",
        "df_dates_katherine # use this for testing"
      ],
      "execution_count": null,
      "outputs": [
        {
          "output_type": "execute_result",
          "data": {
            "text/html": [
              "<div>\n",
              "<style scoped>\n",
              "    .dataframe tbody tr th:only-of-type {\n",
              "        vertical-align: middle;\n",
              "    }\n",
              "\n",
              "    .dataframe tbody tr th {\n",
              "        vertical-align: top;\n",
              "    }\n",
              "\n",
              "    .dataframe thead th {\n",
              "        text-align: right;\n",
              "    }\n",
              "</style>\n",
              "<table border=\"1\" class=\"dataframe\">\n",
              "  <thead>\n",
              "    <tr style=\"text-align: right;\">\n",
              "      <th></th>\n",
              "      <th>Date</th>\n",
              "      <th>Sentence</th>\n",
              "    </tr>\n",
              "  </thead>\n",
              "  <tbody>\n",
              "    <tr>\n",
              "      <th>0</th>\n",
              "      <td>August 26, 1918</td>\n",
              "      <td>Katherine Johnson\\nFrom Wikipedia, the free en...</td>\n",
              "    </tr>\n",
              "    <tr>\n",
              "      <th>1</th>\n",
              "      <td>August 26, 1918</td>\n",
              "      <td>Early life\\nKatherine Johnson was born as Creo...</td>\n",
              "    </tr>\n",
              "    <tr>\n",
              "      <th>2</th>\n",
              "      <td>October 21, 2019</td>\n",
              "      <td>[6][10]\\n\\nExternal video\\nvideo icon Intervie...</td>\n",
              "    </tr>\n",
              "    <tr>\n",
              "      <th>3</th>\n",
              "      <td>1937</td>\n",
              "      <td>[15] She graduated summa cum laude in 1937, wi...</td>\n",
              "    </tr>\n",
              "    <tr>\n",
              "      <th>4</th>\n",
              "      <td>1939</td>\n",
              "      <td>[16][12][17] \\n\\nIn 1939, after marrying her f...</td>\n",
              "    </tr>\n",
              "    <tr>\n",
              "      <th>5</th>\n",
              "      <td>1938</td>\n",
              "      <td>Through WVSC's president, Dr. John W. Davis, s...</td>\n",
              "    </tr>\n",
              "    <tr>\n",
              "      <th>6</th>\n",
              "      <td>1966</td>\n",
              "      <td>Career\\nPhotograph of Johnson sitting at a des...</td>\n",
              "    </tr>\n",
              "    <tr>\n",
              "      <th>7</th>\n",
              "      <td>1952</td>\n",
              "      <td>At a family gathering in 1952, a relative ment...</td>\n",
              "    </tr>\n",
              "    <tr>\n",
              "      <th>8</th>\n",
              "      <td>1953</td>\n",
              "      <td>Johnson accepted a job offer from the agency i...</td>\n",
              "    </tr>\n",
              "    <tr>\n",
              "      <th>9</th>\n",
              "      <td>1953</td>\n",
              "      <td>[6]\\n\\nFrom 1953 to 1958, Johnson worked as a ...</td>\n",
              "    </tr>\n",
              "    <tr>\n",
              "      <th>10</th>\n",
              "      <td>1958</td>\n",
              "      <td>\"[23]\\n\\nNACA disbanded the colored computing ...</td>\n",
              "    </tr>\n",
              "    <tr>\n",
              "      <th>11</th>\n",
              "      <td>1958</td>\n",
              "      <td>From 1958 until her retirement in 1986, Johnso...</td>\n",
              "    </tr>\n",
              "    <tr>\n",
              "      <th>12</th>\n",
              "      <td>May 5, 1961</td>\n",
              "      <td>She calculated the trajectory for the May 5, 1...</td>\n",
              "    </tr>\n",
              "    <tr>\n",
              "      <th>13</th>\n",
              "      <td>1961</td>\n",
              "      <td>[1] She also calculated the launch window for ...</td>\n",
              "    </tr>\n",
              "    <tr>\n",
              "      <th>14</th>\n",
              "      <td>May 5, 1961</td>\n",
              "      <td>[28] On May 5, 1961, her work helped to ensure...</td>\n",
              "    </tr>\n",
              "    <tr>\n",
              "      <th>15</th>\n",
              "      <td>1969</td>\n",
              "      <td>[30]\\n\\nShe also helped to calculate the traje...</td>\n",
              "    </tr>\n",
              "    <tr>\n",
              "      <th>16</th>\n",
              "      <td>1969</td>\n",
              "      <td>[1][28] On 20 July 1969 during the Moon landin...</td>\n",
              "    </tr>\n",
              "    <tr>\n",
              "      <th>17</th>\n",
              "      <td>1970</td>\n",
              "      <td>[1] In 1970, Johnson worked on the Apollo 13 M...</td>\n",
              "    </tr>\n",
              "    <tr>\n",
              "      <th>18</th>\n",
              "      <td>2010</td>\n",
              "      <td>In a 2010 interview, Johnson recalled, \"Everyb...</td>\n",
              "    </tr>\n",
              "    <tr>\n",
              "      <th>19</th>\n",
              "      <td>1953</td>\n",
              "      <td>The family lived in Newport News, Virginia, fr...</td>\n",
              "    </tr>\n",
              "    <tr>\n",
              "      <th>20</th>\n",
              "      <td>1956</td>\n",
              "      <td>James died of an inoperable brain tumor in 195...</td>\n",
              "    </tr>\n",
              "    <tr>\n",
              "      <th>21</th>\n",
              "      <td>2019</td>\n",
              "      <td>the pair were married for 60 years until his d...</td>\n",
              "    </tr>\n",
              "  </tbody>\n",
              "</table>\n",
              "</div>"
            ],
            "text/plain": [
              "                Date                                           Sentence\n",
              "0    August 26, 1918  Katherine Johnson\\nFrom Wikipedia, the free en...\n",
              "1    August 26, 1918  Early life\\nKatherine Johnson was born as Creo...\n",
              "2   October 21, 2019  [6][10]\\n\\nExternal video\\nvideo icon Intervie...\n",
              "3               1937  [15] She graduated summa cum laude in 1937, wi...\n",
              "4               1939  [16][12][17] \\n\\nIn 1939, after marrying her f...\n",
              "5               1938  Through WVSC's president, Dr. John W. Davis, s...\n",
              "6               1966  Career\\nPhotograph of Johnson sitting at a des...\n",
              "7               1952  At a family gathering in 1952, a relative ment...\n",
              "8               1953  Johnson accepted a job offer from the agency i...\n",
              "9               1953  [6]\\n\\nFrom 1953 to 1958, Johnson worked as a ...\n",
              "10              1958  \"[23]\\n\\nNACA disbanded the colored computing ...\n",
              "11              1958  From 1958 until her retirement in 1986, Johnso...\n",
              "12       May 5, 1961  She calculated the trajectory for the May 5, 1...\n",
              "13              1961  [1] She also calculated the launch window for ...\n",
              "14       May 5, 1961  [28] On May 5, 1961, her work helped to ensure...\n",
              "15              1969  [30]\\n\\nShe also helped to calculate the traje...\n",
              "16              1969  [1][28] On 20 July 1969 during the Moon landin...\n",
              "17              1970  [1] In 1970, Johnson worked on the Apollo 13 M...\n",
              "18              2010  In a 2010 interview, Johnson recalled, \"Everyb...\n",
              "19              1953  The family lived in Newport News, Virginia, fr...\n",
              "20              1956  James died of an inoperable brain tumor in 195...\n",
              "21              2019  the pair were married for 60 years until his d..."
            ]
          },
          "metadata": {},
          "execution_count": 98
        }
      ]
    },
    {
      "cell_type": "markdown",
      "metadata": {
        "id": "QQAoFxzQBAJi"
      },
      "source": [
        "#### Task 4: Implement the function *dates_to_iso8601* so that it converts a date expression string to the ISO 8601 date standard.\n",
        "Then, add the ISO 8601 converted dates as a column (\"ISO\") to our dataframe. \n"
      ]
    },
    {
      "cell_type": "code",
      "metadata": {
        "collapsed": true,
        "id": "lJ6vsatpBAJi",
        "colab": {
          "base_uri": "https://localhost:8080/",
          "height": 726
        },
        "outputId": "fed40742-0e11-45ad-8c94-fd593e566d67"
      },
      "source": [
        "from datetime import datetime\n",
        "from datetime import date\n",
        "import pandas as pd\n",
        "\n",
        "def date_expression_to_iso8601(date_string):\n",
        "  \"\"\"\n",
        "  :param date_string: A string containing a date expression\n",
        "  :return: A string containing the date in ISO 8601 format\n",
        "  \"\"\"\n",
        "  full_time = datetime.strptime(date_string,\"%B %d, %Y\").date()\n",
        "  iso=full_time.isoformat()\n",
        "  return iso\n",
        "# Now, add a column \"ISO\" to your DataFrame\n",
        "iso_date=pd.to_datetime(df_dates_katherine['Date'], format=\"%B %d, %Y\", dayfirst=True, errors='coerce').dt.date\n",
        "\n",
        "iso_date=iso_date.fillna(df_dates_katherine['Date'], inplace=False)\n",
        "df_dates_katherine['ISO']=iso_date\n",
        "\n",
        "\n",
        "df_dates_katherine\n"
      ],
      "execution_count": null,
      "outputs": [
        {
          "output_type": "execute_result",
          "data": {
            "text/html": [
              "<div>\n",
              "<style scoped>\n",
              "    .dataframe tbody tr th:only-of-type {\n",
              "        vertical-align: middle;\n",
              "    }\n",
              "\n",
              "    .dataframe tbody tr th {\n",
              "        vertical-align: top;\n",
              "    }\n",
              "\n",
              "    .dataframe thead th {\n",
              "        text-align: right;\n",
              "    }\n",
              "</style>\n",
              "<table border=\"1\" class=\"dataframe\">\n",
              "  <thead>\n",
              "    <tr style=\"text-align: right;\">\n",
              "      <th></th>\n",
              "      <th>Date</th>\n",
              "      <th>Sentence</th>\n",
              "      <th>ISO</th>\n",
              "    </tr>\n",
              "  </thead>\n",
              "  <tbody>\n",
              "    <tr>\n",
              "      <th>0</th>\n",
              "      <td>August 26, 1918</td>\n",
              "      <td>Katherine Johnson\\nFrom Wikipedia, the free en...</td>\n",
              "      <td>1918-08-26</td>\n",
              "    </tr>\n",
              "    <tr>\n",
              "      <th>1</th>\n",
              "      <td>August 26, 1918</td>\n",
              "      <td>Early life\\nKatherine Johnson was born as Creo...</td>\n",
              "      <td>1918-08-26</td>\n",
              "    </tr>\n",
              "    <tr>\n",
              "      <th>2</th>\n",
              "      <td>October 21, 2019</td>\n",
              "      <td>[6][10]\\n\\nExternal video\\nvideo icon Intervie...</td>\n",
              "      <td>2019-10-21</td>\n",
              "    </tr>\n",
              "    <tr>\n",
              "      <th>3</th>\n",
              "      <td>1937</td>\n",
              "      <td>[15] She graduated summa cum laude in 1937, wi...</td>\n",
              "      <td>1937</td>\n",
              "    </tr>\n",
              "    <tr>\n",
              "      <th>4</th>\n",
              "      <td>1939</td>\n",
              "      <td>[16][12][17] \\n\\nIn 1939, after marrying her f...</td>\n",
              "      <td>1939</td>\n",
              "    </tr>\n",
              "    <tr>\n",
              "      <th>5</th>\n",
              "      <td>1938</td>\n",
              "      <td>Through WVSC's president, Dr. John W. Davis, s...</td>\n",
              "      <td>1938</td>\n",
              "    </tr>\n",
              "    <tr>\n",
              "      <th>6</th>\n",
              "      <td>1966</td>\n",
              "      <td>Career\\nPhotograph of Johnson sitting at a des...</td>\n",
              "      <td>1966</td>\n",
              "    </tr>\n",
              "    <tr>\n",
              "      <th>7</th>\n",
              "      <td>1952</td>\n",
              "      <td>At a family gathering in 1952, a relative ment...</td>\n",
              "      <td>1952</td>\n",
              "    </tr>\n",
              "    <tr>\n",
              "      <th>8</th>\n",
              "      <td>1953</td>\n",
              "      <td>Johnson accepted a job offer from the agency i...</td>\n",
              "      <td>1953</td>\n",
              "    </tr>\n",
              "    <tr>\n",
              "      <th>9</th>\n",
              "      <td>1953</td>\n",
              "      <td>[6]\\n\\nFrom 1953 to 1958, Johnson worked as a ...</td>\n",
              "      <td>1953</td>\n",
              "    </tr>\n",
              "    <tr>\n",
              "      <th>10</th>\n",
              "      <td>1958</td>\n",
              "      <td>\"[23]\\n\\nNACA disbanded the colored computing ...</td>\n",
              "      <td>1958</td>\n",
              "    </tr>\n",
              "    <tr>\n",
              "      <th>11</th>\n",
              "      <td>1958</td>\n",
              "      <td>From 1958 until her retirement in 1986, Johnso...</td>\n",
              "      <td>1958</td>\n",
              "    </tr>\n",
              "    <tr>\n",
              "      <th>12</th>\n",
              "      <td>May 5, 1961</td>\n",
              "      <td>She calculated the trajectory for the May 5, 1...</td>\n",
              "      <td>1961-05-05</td>\n",
              "    </tr>\n",
              "    <tr>\n",
              "      <th>13</th>\n",
              "      <td>1961</td>\n",
              "      <td>[1] She also calculated the launch window for ...</td>\n",
              "      <td>1961</td>\n",
              "    </tr>\n",
              "    <tr>\n",
              "      <th>14</th>\n",
              "      <td>May 5, 1961</td>\n",
              "      <td>[28] On May 5, 1961, her work helped to ensure...</td>\n",
              "      <td>1961-05-05</td>\n",
              "    </tr>\n",
              "    <tr>\n",
              "      <th>15</th>\n",
              "      <td>1969</td>\n",
              "      <td>[30]\\n\\nShe also helped to calculate the traje...</td>\n",
              "      <td>1969</td>\n",
              "    </tr>\n",
              "    <tr>\n",
              "      <th>16</th>\n",
              "      <td>1969</td>\n",
              "      <td>[1][28] On 20 July 1969 during the Moon landin...</td>\n",
              "      <td>1969</td>\n",
              "    </tr>\n",
              "    <tr>\n",
              "      <th>17</th>\n",
              "      <td>1970</td>\n",
              "      <td>[1] In 1970, Johnson worked on the Apollo 13 M...</td>\n",
              "      <td>1970</td>\n",
              "    </tr>\n",
              "    <tr>\n",
              "      <th>18</th>\n",
              "      <td>2010</td>\n",
              "      <td>In a 2010 interview, Johnson recalled, \"Everyb...</td>\n",
              "      <td>2010</td>\n",
              "    </tr>\n",
              "    <tr>\n",
              "      <th>19</th>\n",
              "      <td>1953</td>\n",
              "      <td>The family lived in Newport News, Virginia, fr...</td>\n",
              "      <td>1953</td>\n",
              "    </tr>\n",
              "    <tr>\n",
              "      <th>20</th>\n",
              "      <td>1956</td>\n",
              "      <td>James died of an inoperable brain tumor in 195...</td>\n",
              "      <td>1956</td>\n",
              "    </tr>\n",
              "    <tr>\n",
              "      <th>21</th>\n",
              "      <td>2019</td>\n",
              "      <td>the pair were married for 60 years until his d...</td>\n",
              "      <td>2019</td>\n",
              "    </tr>\n",
              "  </tbody>\n",
              "</table>\n",
              "</div>"
            ],
            "text/plain": [
              "                Date  ...         ISO\n",
              "0    August 26, 1918  ...  1918-08-26\n",
              "1    August 26, 1918  ...  1918-08-26\n",
              "2   October 21, 2019  ...  2019-10-21\n",
              "3               1937  ...        1937\n",
              "4               1939  ...        1939\n",
              "5               1938  ...        1938\n",
              "6               1966  ...        1966\n",
              "7               1952  ...        1952\n",
              "8               1953  ...        1953\n",
              "9               1953  ...        1953\n",
              "10              1958  ...        1958\n",
              "11              1958  ...        1958\n",
              "12       May 5, 1961  ...  1961-05-05\n",
              "13              1961  ...        1961\n",
              "14       May 5, 1961  ...  1961-05-05\n",
              "15              1969  ...        1969\n",
              "16              1969  ...        1969\n",
              "17              1970  ...        1970\n",
              "18              2010  ...        2010\n",
              "19              1953  ...        1953\n",
              "20              1956  ...        1956\n",
              "21              2019  ...        2019\n",
              "\n",
              "[22 rows x 3 columns]"
            ]
          },
          "metadata": {},
          "execution_count": 53
        }
      ]
    },
    {
      "cell_type": "markdown",
      "metadata": {
        "id": "0Jr-ekx2BAJj"
      },
      "source": [
        "#### Task 5: Combine the previous steps in the function *get_sorted_df_from_file_name* so that it runs the whole date extraction pipeline and returns a DataFrame.\n",
        "\n",
        "\n",
        "Consider the following example text: \n",
        "\n",
        "> This is an example text about interesting upcoming dates. Halloween takes place on 31 October 2021. Our Christmas holiday is from Friday 24 December 2021 - Friday 7 January 2022. We will celebrate Sinterklaas on 5 December 2021.\n",
        "\n",
        "Here's an illustration of what the example text's DataFrame should look like: \n",
        "\n",
        "|ISO |Date | Sentence |\n",
        "|----:|----:|:----|\n",
        "|2021-10-31 |31 October 2021| Halloween takes place on 31 October 2021.|\n",
        "|2021-12-05 |5 December 2021| We will celebrate Sinterklaas on 5 December 2021.|\n",
        "|2021-12-24 |24 December 2021| Our Christmas holiday is from Friday 24 December 2021 - Friday 7 January 2022.|\n",
        "|2022-01-07 |7 January 2022| Our Christmas holiday is from Friday 24 December 2021 - Friday 7 January 2022.|"
      ]
    },
    {
      "cell_type": "code",
      "metadata": {
        "collapsed": true,
        "id": "LknbnUtxBAJj",
        "colab": {
          "base_uri": "https://localhost:8080/",
          "height": 758
        },
        "outputId": "339ccbed-50c4-4437-bdcf-e52d7eae2243"
      },
      "source": [
        "\n",
        "def get_sorted_df_from_file_name(file_name):\n",
        "  #   \"\"\"\n",
        "  # :param file_name: A string containing the full path to a file\n",
        "  # :return: A pandas DataFrame with the columns \"Date\", \"Sentence\" and \"ISO\" \n",
        "  #         (see above), where rows are sorted according to \"ISO\"\n",
        "  # \"\"\"\n",
        "  text=read_file(file_name)\n",
        "  event_df=extract_date_expressions(sentence_tokenize_text(text))       \n",
        "  iso_date=pd.to_datetime(event_df['Date'], errors='coerce')\n",
        "  event_df['ISO']=iso_date\n",
        "  event_df = event_df.sort_values(by=\"ISO\")\n",
        "  event_df=event_df.set_index('ISO')\n",
        "  return event_df     \n",
        "df_sorted=get_sorted_df_from_file_name('KatherineJohnson.txt')\n",
        "df_sorted\n"
      ],
      "execution_count": null,
      "outputs": [
        {
          "output_type": "execute_result",
          "data": {
            "text/html": [
              "<div>\n",
              "<style scoped>\n",
              "    .dataframe tbody tr th:only-of-type {\n",
              "        vertical-align: middle;\n",
              "    }\n",
              "\n",
              "    .dataframe tbody tr th {\n",
              "        vertical-align: top;\n",
              "    }\n",
              "\n",
              "    .dataframe thead th {\n",
              "        text-align: right;\n",
              "    }\n",
              "</style>\n",
              "<table border=\"1\" class=\"dataframe\">\n",
              "  <thead>\n",
              "    <tr style=\"text-align: right;\">\n",
              "      <th></th>\n",
              "      <th>Date</th>\n",
              "      <th>Sentence</th>\n",
              "    </tr>\n",
              "    <tr>\n",
              "      <th>ISO</th>\n",
              "      <th></th>\n",
              "      <th></th>\n",
              "    </tr>\n",
              "  </thead>\n",
              "  <tbody>\n",
              "    <tr>\n",
              "      <th>1918-08-26</th>\n",
              "      <td>August 26, 1918</td>\n",
              "      <td>Katherine Johnson\\nFrom Wikipedia, the free en...</td>\n",
              "    </tr>\n",
              "    <tr>\n",
              "      <th>1918-08-26</th>\n",
              "      <td>August 26, 1918</td>\n",
              "      <td>Early life\\nKatherine Johnson was born as Creo...</td>\n",
              "    </tr>\n",
              "    <tr>\n",
              "      <th>1937-01-01</th>\n",
              "      <td>1937</td>\n",
              "      <td>[15] She graduated summa cum laude in 1937, wi...</td>\n",
              "    </tr>\n",
              "    <tr>\n",
              "      <th>1938-01-01</th>\n",
              "      <td>1938</td>\n",
              "      <td>Through WVSC's president, Dr. John W. Davis, s...</td>\n",
              "    </tr>\n",
              "    <tr>\n",
              "      <th>1939-01-01</th>\n",
              "      <td>1939</td>\n",
              "      <td>[16][12][17] \\n\\nIn 1939, after marrying her f...</td>\n",
              "    </tr>\n",
              "    <tr>\n",
              "      <th>1952-01-01</th>\n",
              "      <td>1952</td>\n",
              "      <td>At a family gathering in 1952, a relative ment...</td>\n",
              "    </tr>\n",
              "    <tr>\n",
              "      <th>1953-01-01</th>\n",
              "      <td>1953</td>\n",
              "      <td>The family lived in Newport News, Virginia, fr...</td>\n",
              "    </tr>\n",
              "    <tr>\n",
              "      <th>1953-01-01</th>\n",
              "      <td>1953</td>\n",
              "      <td>Johnson accepted a job offer from the agency i...</td>\n",
              "    </tr>\n",
              "    <tr>\n",
              "      <th>1953-01-01</th>\n",
              "      <td>1953</td>\n",
              "      <td>[6]\\n\\nFrom 1953 to 1958, Johnson worked as a ...</td>\n",
              "    </tr>\n",
              "    <tr>\n",
              "      <th>1956-01-01</th>\n",
              "      <td>1956</td>\n",
              "      <td>James died of an inoperable brain tumor in 195...</td>\n",
              "    </tr>\n",
              "    <tr>\n",
              "      <th>1958-01-01</th>\n",
              "      <td>1958</td>\n",
              "      <td>From 1958 until her retirement in 1986, Johnso...</td>\n",
              "    </tr>\n",
              "    <tr>\n",
              "      <th>1958-01-01</th>\n",
              "      <td>1958</td>\n",
              "      <td>\"[23]\\n\\nNACA disbanded the colored computing ...</td>\n",
              "    </tr>\n",
              "    <tr>\n",
              "      <th>1961-01-01</th>\n",
              "      <td>1961</td>\n",
              "      <td>[1] She also calculated the launch window for ...</td>\n",
              "    </tr>\n",
              "    <tr>\n",
              "      <th>1961-05-05</th>\n",
              "      <td>May 5, 1961</td>\n",
              "      <td>She calculated the trajectory for the May 5, 1...</td>\n",
              "    </tr>\n",
              "    <tr>\n",
              "      <th>1961-05-05</th>\n",
              "      <td>May 5, 1961</td>\n",
              "      <td>[28] On May 5, 1961, her work helped to ensure...</td>\n",
              "    </tr>\n",
              "    <tr>\n",
              "      <th>1966-01-01</th>\n",
              "      <td>1966</td>\n",
              "      <td>Career\\nPhotograph of Johnson sitting at a des...</td>\n",
              "    </tr>\n",
              "    <tr>\n",
              "      <th>1969-01-01</th>\n",
              "      <td>1969</td>\n",
              "      <td>[30]\\n\\nShe also helped to calculate the traje...</td>\n",
              "    </tr>\n",
              "    <tr>\n",
              "      <th>1969-01-01</th>\n",
              "      <td>1969</td>\n",
              "      <td>[1][28] On 20 July 1969 during the Moon landin...</td>\n",
              "    </tr>\n",
              "    <tr>\n",
              "      <th>1970-01-01</th>\n",
              "      <td>1970</td>\n",
              "      <td>[1] In 1970, Johnson worked on the Apollo 13 M...</td>\n",
              "    </tr>\n",
              "    <tr>\n",
              "      <th>2010-01-01</th>\n",
              "      <td>2010</td>\n",
              "      <td>In a 2010 interview, Johnson recalled, \"Everyb...</td>\n",
              "    </tr>\n",
              "    <tr>\n",
              "      <th>2019-01-01</th>\n",
              "      <td>2019</td>\n",
              "      <td>the pair were married for 60 years until his d...</td>\n",
              "    </tr>\n",
              "    <tr>\n",
              "      <th>2019-10-21</th>\n",
              "      <td>October 21, 2019</td>\n",
              "      <td>[6][10]\\n\\nExternal video\\nvideo icon Intervie...</td>\n",
              "    </tr>\n",
              "  </tbody>\n",
              "</table>\n",
              "</div>"
            ],
            "text/plain": [
              "                        Date                                           Sentence\n",
              "ISO                                                                            \n",
              "1918-08-26   August 26, 1918  Katherine Johnson\\nFrom Wikipedia, the free en...\n",
              "1918-08-26   August 26, 1918  Early life\\nKatherine Johnson was born as Creo...\n",
              "1937-01-01              1937  [15] She graduated summa cum laude in 1937, wi...\n",
              "1938-01-01              1938  Through WVSC's president, Dr. John W. Davis, s...\n",
              "1939-01-01              1939  [16][12][17] \\n\\nIn 1939, after marrying her f...\n",
              "1952-01-01              1952  At a family gathering in 1952, a relative ment...\n",
              "1953-01-01              1953  The family lived in Newport News, Virginia, fr...\n",
              "1953-01-01              1953  Johnson accepted a job offer from the agency i...\n",
              "1953-01-01              1953  [6]\\n\\nFrom 1953 to 1958, Johnson worked as a ...\n",
              "1956-01-01              1956  James died of an inoperable brain tumor in 195...\n",
              "1958-01-01              1958  From 1958 until her retirement in 1986, Johnso...\n",
              "1958-01-01              1958  \"[23]\\n\\nNACA disbanded the colored computing ...\n",
              "1961-01-01              1961  [1] She also calculated the launch window for ...\n",
              "1961-05-05       May 5, 1961  She calculated the trajectory for the May 5, 1...\n",
              "1961-05-05       May 5, 1961  [28] On May 5, 1961, her work helped to ensure...\n",
              "1966-01-01              1966  Career\\nPhotograph of Johnson sitting at a des...\n",
              "1969-01-01              1969  [30]\\n\\nShe also helped to calculate the traje...\n",
              "1969-01-01              1969  [1][28] On 20 July 1969 during the Moon landin...\n",
              "1970-01-01              1970  [1] In 1970, Johnson worked on the Apollo 13 M...\n",
              "2010-01-01              2010  In a 2010 interview, Johnson recalled, \"Everyb...\n",
              "2019-01-01              2019  the pair were married for 60 years until his d...\n",
              "2019-10-21  October 21, 2019  [6][10]\\n\\nExternal video\\nvideo icon Intervie..."
            ]
          },
          "metadata": {},
          "execution_count": 54
        }
      ]
    },
    {
      "cell_type": "markdown",
      "metadata": {
        "id": "lNno2UGrBAJj"
      },
      "source": [
        "### Manual labeling: KatherineJohnson.txt\n",
        "To evaluate your date expression pipeline, gold labels are created\n",
        "\n",
        "Look at our example text again:\n",
        "\n",
        "> This is an example text about interesting upcoming dates. Halloween takes place on 31 October 2021. Our Christmas holiday is from Friday 24 December 2021 - Friday 7 January 2022. We will celebrate Sinterklaas on 5 December 2021.\n",
        "\n",
        "\n",
        "This is how we store the gold labels for this example text:\n",
        "~~~python\n",
        "example_manual_labels = [\n",
        "  {\"Sentence\": \"This is an example text about interesting upcoming dates.\", \n",
        "      \"Dates\": []},\n",
        "  {\"Sentence\": \"The next Halloween takes place on 31 October 2021.\", \n",
        "      \"Dates\": [\"2021-10-31\"]},\n",
        "  {\"Sentence\": \"Our Christmas holiday is from Friday 24 December 2021-Friday 7 January 2022.\", \n",
        "      \"Dates\": [\"2021-12-24\", \"2022-01-07\"]},\n",
        "  {\"Sentence\": \"We will celebrate Sinterklaas on 5 December 2021.\", \n",
        "      \"Dates\": [\"2021-12-05\"]}\n",
        "  ]\n",
        "~~~\n",
        "We have one dictionary for each sentence. This dictionary has two keys:\n",
        "- Key \"Sentence\": The corresponding value is the sentence (i.e. a string).\n",
        "- Key \"Dates\": The corresponding value is a list of all date expressions (strings; correctly converted to the ISO 8601 date standard) that appear in that sentence. If a sentence does not contain any date expressions, this list is empty. \n",
        "\n",
        "#### Task 6: Manually label all sentences from KatherineJohnson.txt.   \n",
        "Go through the text in KatherineJohnson.txt and fill the list *katherine_manual_labels* following the format described above. "
      ]
    },
    {
      "cell_type": "code",
      "metadata": {
        "id": "OYaPVPd5AjcT"
      },
      "source": [
        "#create a dataframe to extract the labels\n",
        "list_katherine=sentence_tokenize_text(text_katherine)\n",
        "dates=[]\n",
        "for sent in list_katherine:\n",
        "    dates.append(re.findall('[0-9]{4}|[A-Z]{1}[a-z]{1,9} [0-9]{1,2}, [0-9]{4}', sent))\n",
        "for date in dates:\n",
        "    if date:\n",
        "      for i in range(len(date)): \n",
        "        if re.search(\"[A-Z]{1}[a-z]{1,9} [0-9]{1,2}, [0-9]{4}\", date[i]):\n",
        "          date[i]=date_expression_to_iso8601(date[i])\n",
        "events=[]\n",
        "for sent in list_katherine:\n",
        "  events.append(sent)\n",
        "dict_events_katherine = {'Dates': dates,'Sentence': events} \n",
        "df = pd.DataFrame(dict_events_katherine)\n",
        "#dict_events_katherine\n"
      ],
      "execution_count": null,
      "outputs": []
    },
    {
      "cell_type": "code",
      "metadata": {
        "collapsed": true,
        "id": "qjSQaAyoBAJj",
        "colab": {
          "base_uri": "https://localhost:8080/"
        },
        "outputId": "669c6bb0-96ca-4d3c-a76b-96310e7049f7"
      },
      "source": [
        "\n",
        "  # Add one dictionary for each sentence here. \n",
        "  #{\"Dates\": [], \"Sentence\": \"\"},\n",
        "\n",
        "katherine_manual_labels=df[['Sentence','Dates']].to_dict(orient='records')\n",
        "katherine_manual_labels\n"
      ],
      "execution_count": null,
      "outputs": [
        {
          "output_type": "execute_result",
          "data": {
            "text/plain": [
              "[{'Dates': ['1918-08-26', '2020-02-24'],\n",
              "  'Sentence': 'Katherine Johnson\\nFrom Wikipedia, the free encyclopedia\\n\\nCreola Katherine Johnson (née Coleman; August 26, 1918 – February 24, 2020) was an American mathematician whose calculations of orbital mechanics as a NASA employee were critical to the success of the first and subsequent U.S. crewed spaceflights.'},\n",
              " {'Dates': [],\n",
              "  'Sentence': '[1] During her 33-year career at NASA and its predecessor, she earned a reputation for mastering complex manual calculations and helped pioneer the use of computers to perform the tasks.'},\n",
              " {'Dates': ['1918-08-26'],\n",
              "  'Sentence': 'Early life\\nKatherine Johnson was born as Creola Katherine Coleman on August 26, 1918, in White Sulphur Springs, West Virginia, to Joylette Roberta (née Lowe) and Joshua McKinley Coleman.'},\n",
              " {'Dates': [],\n",
              "  'Sentence': '[5][6][7][8] She was the youngest of four children.'},\n",
              " {'Dates': [],\n",
              "  'Sentence': '[9] Her mother was a teacher and her father was a lumberman, farmer, and handyman, and worked at the Greenbrier Hotel.'},\n",
              " {'Dates': ['2019-10-21'],\n",
              "  'Sentence': \"[6][10]\\n\\nExternal video\\nvideo icon Interview with West Virginia State University President Anthony Jenkins on Johnson's studies and career, October 21, 2019, C-SPAN\\n\\nAfter graduating from high school at 14, Johnson enrolled at West Virginia State, a historically black college.\"},\n",
              " {'Dates': [],\n",
              "  'Sentence': '[14] As a student, she took every math course offered by the college.'},\n",
              " {'Dates': [],\n",
              "  'Sentence': 'Multiple professors mentored her, including the chemist and mathematician Angie Turner King, who had mentored Coleman throughout high school, and W. W. Schieffelin Claytor, the third African-American to receive a Ph.D. in mathematics.'},\n",
              " {'Dates': [],\n",
              "  'Sentence': 'Claytor added new mathematics courses just for Johnson.'},\n",
              " {'Dates': ['1937'],\n",
              "  'Sentence': '[15] She graduated summa cum laude in 1937, with degrees in mathematics and French, at age 18.'},\n",
              " {'Dates': ['1939'],\n",
              "  'Sentence': '[16][12][17] \\n\\nIn 1939, after marrying her first husband, James Goble, she left her teaching job and enrolled in a graduate math program.'},\n",
              " {'Dates': [],\n",
              "  'Sentence': 'She quit one year later after becoming pregnant and chose to focus on her family life.'},\n",
              " {'Dates': [],\n",
              "  'Sentence': '[14] She was the first African-American woman to attend graduate school at West Virginia University in Morgantown, West Virginia.'},\n",
              " {'Dates': ['1938'],\n",
              "  'Sentence': \"Through WVSC's president, Dr. John W. Davis, she became one of three African-American students,[14] and the only woman, selected to integrate the graduate school after the 1938 United States Supreme Court ruling Missouri ex rel.\"},\n",
              " {'Dates': [], 'Sentence': 'Gaines v. Canada.'},\n",
              " {'Dates': ['1966'],\n",
              "  'Sentence': 'Career\\nPhotograph of Johnson sitting at a desk\\nJohnson working as a \"computer\" at NASA in 1966\\n\\nJohnson decided on a career as a research mathematician, although this was a difficult field for African Americans and women to enter.'},\n",
              " {'Dates': [], 'Sentence': 'The first jobs she found were in teaching.'},\n",
              " {'Dates': ['1952'],\n",
              "  'Sentence': 'At a family gathering in 1952, a relative mentioned that the National Advisory Committee for Aeronautics (NACA) was hiring mathematicians.'},\n",
              " {'Dates': [],\n",
              "  'Sentence': '[14] At the Langley Memorial Aeronautical Laboratory, based in Hampton, Virginia, near Langley Field, NACA hired African-American mathematicians as well as whites for their Guidance and Navigation Department.'},\n",
              " {'Dates': ['1953'],\n",
              "  'Sentence': 'Johnson accepted a job offer from the agency in June 1953.'},\n",
              " {'Dates': ['1953', '1958'],\n",
              "  'Sentence': '[6]\\n\\nFrom 1953 to 1958, Johnson worked as a computer,[21] analyzing topics such as gust alleviation for aircraft.'},\n",
              " {'Dates': [],\n",
              "  'Sentence': \"Originally assigned to the West Area Computers section supervised by mathematician Dorothy Vaughan, Johnson was reassigned to the Guidance and Control Division of Langley's Flight Research Division.\"},\n",
              " {'Dates': [], 'Sentence': 'It was staffed by white male engineers.'},\n",
              " {'Dates': [],\n",
              "  'Sentence': '[22] In keeping with state racial segregation laws, and federal workplace segregation introduced under President Woodrow Wilson in the early 20th century, Johnson and the other African-American women in the computing pool were required to work, eat, and use restrooms that were separate from those of their white peers.'},\n",
              " {'Dates': [], 'Sentence': 'Their office was labeled as \"Colored Computers\".'},\n",
              " {'Dates': [],\n",
              "  'Sentence': 'In an interview with WHRO-TV, Johnson stated that she \"I didn\\'t feel any segregation.'},\n",
              " {'Dates': [], 'Sentence': \"I knew it was there, but I didn't feel it.\"},\n",
              " {'Dates': ['1958'],\n",
              "  'Sentence': '\"[23]\\n\\nNACA disbanded the colored computing pool in 1958 when the agency was superseded by NASA, which adopted digital computers.'},\n",
              " {'Dates': [],\n",
              "  'Sentence': 'Although the installation was desegregated,[22] forms of discrimination were still pervasive.'},\n",
              " {'Dates': ['1958', '1986'],\n",
              "  'Sentence': 'From 1958 until her retirement in 1986, Johnson worked as an aerospace technologist, moving during her career to the Spacecraft Controls Branch.'},\n",
              " {'Dates': ['1961-05-05'],\n",
              "  'Sentence': 'She calculated the trajectory for the May 5, 1961 space flight of Alan Shepard, the first American in space.'},\n",
              " {'Dates': ['1961'],\n",
              "  'Sentence': '[1] She also calculated the launch window for his 1961 Mercury mission.'},\n",
              " {'Dates': [],\n",
              "  'Sentence': '[25] She plotted backup navigation charts for astronauts in case of electronic failures.'},\n",
              " {'Dates': [],\n",
              "  'Sentence': \"[6] When NASA used electronic computers for the first time to calculate John Glenn's orbit around Earth, officials called on Johnson to verify the computer's numbers; Glenn had asked for her specifically and had refused to fly unless Johnson verified the calculations.\"},\n",
              " {'Dates': [],\n",
              "  'Sentence': '[1][26][27] Biography.com states these were \"far more difficult calculations, to account for the gravitational pulls of celestial bodies\".'},\n",
              " {'Dates': [],\n",
              "  'Sentence': '[28] Author Margot Lee Shetterly stated, \"So the astronaut who became a hero, looked to this black woman in the still-segregated South at the time as one of the key parts of making sure his mission would be a success.\"'},\n",
              " {'Dates': [],\n",
              "  'Sentence': 'She added that, in a time where computing was \"women\\'s work\" and engineering was left to men, \"it really does have to do with us over the course of time sort of not valuing that work that was done by women, however necessary, as much as we might.'},\n",
              " {'Dates': [],\n",
              "  'Sentence': 'And it has taken history to get a perspective on that.'},\n",
              " {'Dates': [],\n",
              "  'Sentence': '\"[29]\\n\\nJohnson later worked directly with digital computers.'},\n",
              " {'Dates': [],\n",
              "  'Sentence': 'Her ability and reputation for accuracy helped to establish confidence in the new technology.'},\n",
              " {'Dates': ['1961-05-05'],\n",
              "  'Sentence': \"[28] On May 5, 1961, her work helped to ensure that Alan Shepard's Freedom 7 Mercury capsule would be found quickly after landing, using the accurate trajectory that had been established.\"},\n",
              " {'Dates': ['1969'],\n",
              "  'Sentence': '[30]\\n\\nShe also helped to calculate the trajectory for the 1969 Apollo 11 flight to the Moon.'},\n",
              " {'Dates': ['1969'],\n",
              "  'Sentence': '[1][28] On 20 July 1969 during the Moon landing, Johnson was at a meeting in the Pocono Mountains.'},\n",
              " {'Dates': [],\n",
              "  'Sentence': 'She and a few others crowded around a small television screen watching the first steps on the Moon.'},\n",
              " {'Dates': ['1970'],\n",
              "  'Sentence': '[1] In 1970, Johnson worked on the Apollo 13 Moon mission.'},\n",
              " {'Dates': [],\n",
              "  'Sentence': \"When the mission was aborted, her work on backup procedures and charts helped set a safe path for the crew's return to Earth,[28] creating a one-star observation system that would allow astronauts to determine their location with accuracy.\"},\n",
              " {'Dates': ['2010'],\n",
              "  'Sentence': 'In a 2010 interview, Johnson recalled, \"Everybody was concerned about them getting there.'},\n",
              " {'Dates': [], 'Sentence': 'We were concerned about them getting back.'},\n",
              " {'Dates': [],\n",
              "  'Sentence': '\"[30] Later in her career, Johnson worked on the Space Shuttle program, the Earth Resources Satellite,[1][28] and on plans for a mission to Mars.'},\n",
              " {'Dates': [],\n",
              "  'Sentence': '[31]\\n\\nJohnson spent her later years encouraging students to enter the fields of science, technology, engineering, and mathematics (STEM).'},\n",
              " {'Dates': [],\n",
              "  'Sentence': '[32]\\n\\nPersonal life and death\\nKatherine and James Francis Goble had three daughters: Constance, Joylette, and Katherine.'},\n",
              " {'Dates': ['1953'],\n",
              "  'Sentence': 'The family lived in Newport News, Virginia, from 1953.'},\n",
              " {'Dates': ['1956'],\n",
              "  'Sentence': 'James died of an inoperable brain tumor in 1956[33] and, three years later, Katherine married James A. Johnson.'},\n",
              " {'Dates': ['2019'],\n",
              "  'Sentence': 'the pair were married for 60 years until his death in March 2019 at the age of 93.'},\n",
              " {'Dates': [],\n",
              "  'Sentence': '[5][34][35]\\n\\n\\nText from https://en.wikipedia.org/wiki/Katherine_Johnson, adapted by the teaching team'}]"
            ]
          },
          "metadata": {},
          "execution_count": 56
        }
      ]
    },
    {
      "cell_type": "markdown",
      "metadata": {
        "id": "uSS73IigBAJk"
      },
      "source": [
        "Now that we have labels for KatherineJohnson.txt, we can plot a confusion matrix to get an impression of your extraction procedure's performance:"
      ]
    },
    {
      "cell_type": "code",
      "metadata": {
        "id": "bFu-hHSm1Eor",
        "colab": {
          "base_uri": "https://localhost:8080/",
          "height": 453
        },
        "outputId": "2ceb8b74-d375-4bfa-f4f5-f23a84f3a8a1"
      },
      "source": [
        "from utils import plot_confusion_matrix\n",
        "\n",
        "plot_confusion_matrix(manual_labels = katherine_manual_labels, \n",
        "                      sorted_date_df =get_sorted_df_from_file_name(os.path.join(working_dir, 'KatherineJohnson.txt')), #df_sorted\n",
        "                      normalize    = False,\n",
        "                      title_names = ['Positive','Negative'])\n"
      ],
      "execution_count": null,
      "outputs": [
        {
          "output_type": "display_data",
          "data": {
            "image/png": "[encoded data removed]",
            "text/plain": [
              "<Figure size 576x432 with 1 Axes>"
            ]
          },
          "metadata": {
            "needs_background": "light"
          }
        }
      ]
    },
    {
      "cell_type": "markdown",
      "metadata": {
        "id": "BccP6ZMlBAJk"
      },
      "source": [
        "#### Task 7: Manually calculate the precision of your date expression procedure on KatherineJohnson.txt.\n",
        "\n"
      ]
    },
    {
      "cell_type": "markdown",
      "metadata": {
        "id": "7qKbw4XwBAJk"
      },
      "source": [
        "\n",
        "Precision= TP/(TP+FP)=23/(23+0)=1"
      ]
    },
    {
      "cell_type": "markdown",
      "metadata": {
        "id": "UMs1nDlJBAJk"
      },
      "source": [
        "### Applying the extraction procedure to the unseen MaryJackson.txt\n",
        "Next, we will test the date extraction procedure and see how it performs on the unseen file MaryJackson.txt. First, let's have a look at the text inside this file: "
      ]
    },
    {
      "cell_type": "code",
      "metadata": {
        "id": "sadqgWXRBAJk"
      },
      "source": [
        "text_mary = read_file(os.path.join(working_dir, 'MaryJackson.txt'))\n"
      ],
      "execution_count": null,
      "outputs": []
    },
    {
      "cell_type": "markdown",
      "metadata": {
        "id": "_2nQw4xmBAJl"
      },
      "source": [
        "#### Task 8: Manually label all sentences from mary.txt\n",
        "Now go through the text in mary.txt and fill the list *mary_manual_labels* just like we previously did for KatherineJohnson.txt: "
      ]
    },
    {
      "cell_type": "code",
      "metadata": {
        "id": "IuZ8uL00-POr"
      },
      "source": [
        "#Create a dataframe for the manual labels\n",
        "list_mary=sentence_tokenize_text(text_mary)\n",
        "dates_mary=[]\n",
        "for sent in list_mary:\n",
        "    dates_mary.append(re.findall('[0-9]{4}|[A-Z]{1}[a-z]{1,9} [0-9]{1,2}, [0-9]{4}', sent))\n",
        "for date in dates_mary:\n",
        "  if date:\n",
        "    for i in range(len(date)):\n",
        "      if re.search(\"[A-Z]{1}[a-z]{1,9} [0-9]{1,2}, [0-9]{4}\", date[i]):\n",
        "          date[i]=date_expression_to_iso8601(date[i])\n",
        "events_mary=[]\n",
        "for sent in list_mary:\n",
        "  events_mary.append(sent)\n",
        "dict_events_mary = {'Dates': dates_mary,'Sentence': events_mary} \n",
        "df_mary = pd.DataFrame(dict_events_mary)\n"
      ],
      "execution_count": null,
      "outputs": []
    },
    {
      "cell_type": "code",
      "metadata": {
        "collapsed": true,
        "id": "hPHu0xu2BAJn",
        "colab": {
          "base_uri": "https://localhost:8080/"
        },
        "outputId": "8dfa4448-41c9-40e1-f2db-565011c2c11b"
      },
      "source": [
        "\n",
        "  # Add one dictionary for each sentence here. \n",
        "  #{\"Dates\": [], \"Sentence\": \"\"},\n",
        "\n",
        "mary_manual_labels=df_mary[['Sentence','Dates']].to_dict(orient='records')\n",
        "mary_manual_labels\n"
      ],
      "execution_count": null,
      "outputs": [
        {
          "output_type": "execute_result",
          "data": {
            "text/plain": [
              "[{'Dates': ['1921-04-09', '2005-02-11', '1958'],\n",
              "  'Sentence': 'Mary Jackson (engineer)\\nFrom Wikipedia, the free encyclopedia\\n\\nMary Jackson (née Winston;[1] April 9, 1921 – February 11, 2005) was an American mathematician and aerospace engineer at the National Advisory Committee for Aeronautics (NACA), which in 1958 was succeeded by the National Aeronautics and Space Administration (NASA).'},\n",
              " {'Dates': [],\n",
              "  'Sentence': 'She worked at Langley Research Center in Hampton, Virginia, for most of her career.'},\n",
              " {'Dates': ['1951'],\n",
              "  'Sentence': 'She started as a computer at the segregated West Area Computing division in 1951.'},\n",
              " {'Dates': ['1958'],\n",
              "  'Sentence': \"She took advanced engineering classes and, in 1958, became NASA's first black female engineer.\"},\n",
              " {'Dates': [],\n",
              "  'Sentence': 'After 34 years at NASA, Jackson had earned the most senior engineering title available.'},\n",
              " {'Dates': [],\n",
              "  'Sentence': 'She realized she could not earn further promotions without becoming a supervisor.'},\n",
              " {'Dates': [],\n",
              "  'Sentence': \"She accepted a demotion to become a manager of both the Federal Women's Program, in the NASA Office of Equal Opportunity Programs and of the Affirmative Action Program.\"},\n",
              " {'Dates': [],\n",
              "  'Sentence': \"In this role, she worked to influence the hiring and promotion of women in NASA's science, engineering, and mathematics careers.\"},\n",
              " {'Dates': ['2016'],\n",
              "  'Sentence': \"Jackson's story features in the 2016 non-fiction book Hidden Figures: The American Dream and the Untold Story of the Black Women Who Helped Win the Space Race.\"},\n",
              " {'Dates': [],\n",
              "  'Sentence': 'She is one of the three protagonists in Hidden Figures, the film adaptation released the same year.'},\n",
              " {'Dates': ['2019'],\n",
              "  'Sentence': 'In 2019, Jackson was posthumously awarded the Congressional Gold Medal.'},\n",
              " {'Dates': ['2021'],\n",
              "  'Sentence': '[2] In 2021, the Washington, D.C. headquarters of NASA was renamed the Mary W. Jackson NASA Headquarters.'},\n",
              " {'Dates': [], 'Sentence': 'NASA held a virtual ceremony for the naming.'},\n",
              " {'Dates': ['1921-04-09'],\n",
              "  'Sentence': '[3]\\n\\nPersonal life\\nMary Winston was born on April 9, 1921, to Ella Winston (née Scott) and Frank Winston.'},\n",
              " {'Dates': [],\n",
              "  'Sentence': '[4] She grew up in Hampton, Virginia, where she graduated from the all-black George P. Phenix Training School with highest honors.'},\n",
              " {'Dates': ['1942'],\n",
              "  'Sentence': \"[5]\\n\\nMary Jackson earned bachelor's degrees in mathematics and physical science from Hampton University in 1942.\"},\n",
              " {'Dates': [],\n",
              "  'Sentence': '[6][7] She was a member of the Alpha Kappa Alpha.'},\n",
              " {'Dates': [],\n",
              "  'Sentence': '[6]\\n\\nJackson served for more than 30 years as a Girl Scout leader.'},\n",
              " {'Dates': ['1970'],\n",
              "  'Sentence': '[5] She was noted in the 1970s for helping African American children in her community create a miniature wind tunnel for testing airplanes.'},\n",
              " {'Dates': ['1944-11-18'],\n",
              "  'Sentence': '[7][8][5]\\n\\nJackson was married on November 18, 1944 to Levi Jackson, Sr., a sailor in the U.S. Navy,[7][9] and had two children, Levi Jackson, Jr. and Carolyn Marie Lewis.'},\n",
              " {'Dates': ['2005-02-11'],\n",
              "  'Sentence': '[7] She died on February 11, 2005, age 83.'},\n",
              " {'Dates': ['1956', '1977', '1977', '1980'],\n",
              "  'Sentence': \"[6]\\n\\nCareer\\n\\nJackson (first row, far right) with the 4'x4' Supersonic Pressure Tunnel staff in 1956[10]\\nBlack and white photograph of Mary Jackson holding a model in a wind tunnel\\nJackson holding a wind tunnel model in 1977\\nBlack and white photograph of Mary Jackson standing in front of large instruments, holding a clipboard and pencil\\nJackson working at the Langley Research Center in 1977\\nMary Jackson sitting, adjusting a control on an instrument\\nJackson working at a control panel in 1980\\nAfter graduation, Mary Jackson taught mathematics for a year at an African-American school in Calvert County, Maryland.\"},\n",
              " {'Dates': [],\n",
              "  'Sentence': '[5] At that time, public schools were still segregated across the South.'},\n",
              " {'Dates': [],\n",
              "  'Sentence': 'She also began tutoring high school and college students, which she continued to do throughout her life.'},\n",
              " {'Dates': ['1943'],\n",
              "  'Sentence': '[11]\\n\\nBy 1943, she had returned to Hampton, where she became a bookkeeper at the National Catholic Community Center there.'},\n",
              " {'Dates': [],\n",
              "  'Sentence': \"She worked as a receptionist and clerk at the Hampton Institute's Health Department.\"},\n",
              " {'Dates': [],\n",
              "  'Sentence': 'She was pregnant during this time and eventually returned home for the birth of her son.'},\n",
              " {'Dates': ['1951'],\n",
              "  'Sentence': 'In 1951, she became a clerk at the Office of the Chief Army Field Forces at Fort Monroe.'},\n",
              " {'Dates': ['1951', '1958'],\n",
              "  'Sentence': '[5][11]\\n\\nIn 1951, Jackson was recruited by the National Advisory Committee for Aeronautics (NACA), which in 1958 was succeeded by the National Aeronautics and Space Administration (NASA).'},\n",
              " {'Dates': [],\n",
              "  'Sentence': '[7][8][12] She started as a research mathematician, or computer, at the Langley Research Center in her hometown of Hampton, Virginia.'},\n",
              " {'Dates': [],\n",
              "  'Sentence': 'She worked under Dorothy Vaughan in the segregated West Area Computing Section.'},\n",
              " {'Dates': ['1953'],\n",
              "  'Sentence': '[5]\\n\\nIn 1953, she accepted an offer to work for engineer Kazimierz Czarnecki in the Supersonic Pressure Tunnel.'},\n",
              " {'Dates': [],\n",
              "  'Sentence': 'The 4 by 4 foot (1.2 by 1.2 m), 60,000 horsepower (45,000 kW) wind tunnel was used to study forces on a model by generating winds at almost twice the speed of sound.'},\n",
              " {'Dates': [],\n",
              "  'Sentence': '[5] Czarnecki encouraged Jackson to undergo training so that she could be promoted to an engineer.'},\n",
              " {'Dates': [],\n",
              "  'Sentence': 'She needed to take graduate-level courses in mathematics and physics to qualify for the job.'},\n",
              " {'Dates': [],\n",
              "  'Sentence': 'They were offered in a night program by the University of Virginia, held at the all-white Hampton High School.'},\n",
              " {'Dates': [],\n",
              "  'Sentence': 'Jackson petitioned the City of Hampton to allow her to attend the classes.'},\n",
              " {'Dates': ['1958'],\n",
              "  'Sentence': \"After completing the courses, she was promoted to aerospace engineer in 1958, and became NASA's first black female engineer.\"},\n",
              " {'Dates': [],\n",
              "  'Sentence': \"[13][8][5] In the early 60's she analyzed data from wind tunnel experiments and real-world aircraft flight experiments at the Theoretical Aerodynamics Branch of the Subsonic-Transonic Aerodynamics Division at Langley.\"},\n",
              " {'Dates': [],\n",
              "  'Sentence': '[7] Her goal was to understand air flow, including thrust and drag forces, in order to improve United States planes.'},\n",
              " {'Dates': [],\n",
              "  'Sentence': '[7]\\n\\nJackson worked as an engineer in several NASA divisions: the Compressibility Research Division, Full-Scale Research Division, High-Speed Aerodynamics Division, and the Subsonic-Transonic Aerodynamics Division.'},\n",
              " {'Dates': [],\n",
              "  'Sentence': '[11] She ultimately authored or co-authored 12 technical papers for NACA and NASA.'},\n",
              " {'Dates': [],\n",
              "  'Sentence': '[11][14][15][16] She worked to help women and other minorities to advance their careers, including advising them how to study in order to qualify for promotions.'},\n",
              " {'Dates': ['1979'],\n",
              "  'Sentence': '[17]\\n\\nBy 1979, Jackson had achieved the most senior title within the engineering department.'},\n",
              " {'Dates': [],\n",
              "  'Sentence': 'She decided to take a demotion in order to serve as an administrator in the Equal Opportunity Specialist field.'},\n",
              " {'Dates': [],\n",
              "  'Sentence': 'After undergoing training at NASA Headquarters, she returned to Langley.'},\n",
              " {'Dates': [],\n",
              "  'Sentence': 'She worked to make changes and highlight women and other minorities who were accomplished in the field.'},\n",
              " {'Dates': [],\n",
              "  'Sentence': \"She served as both the Federal Women's Program Manager in the Office of Equal Opportunity Programs and as the Affirmative Action Program Manager, and she worked to influence the career paths of women in science, engineering, and mathematics positions at NASA.\"},\n",
              " {'Dates': ['1985'],\n",
              "  'Sentence': '[5][17] She continued to work at NASA until her retirement in 1985.'},\n",
              " {'Dates': ['2016'],\n",
              "  'Sentence': '[6]\\n\\nLegacy\\nThe 2016 film Hidden Figures recounts the NASA careers of Jackson, Katherine Johnson, and Dorothy Vaughan, specifically their work on Project Mercury during the Space Race.'},\n",
              " {'Dates': [],\n",
              "  'Sentence': 'The film is based on the book of the same name by Margot Lee Shetterly.'},\n",
              " {'Dates': [],\n",
              "  'Sentence': 'Jackson is portrayed in the film by Janelle Monáe.'},\n",
              " {'Dates': ['2018'],\n",
              "  'Sentence': '[18]\\n\\nIn 2018, the Salt Lake City School Board voted that Jackson Elementary School in Salt Lake City, Utah, would from then on be officially named after Mary Jackson rather than (as it used to be) after President Andrew Jackson.'},\n",
              " {'Dates': ['2021-02-26'],\n",
              "  'Sentence': \"[19]\\n\\nNASA's headquarters building in Washington, D.C. was renamed the Mary W. Jackson NASA Headquarters on February 26, 2021.\"},\n",
              " {'Dates': [],\n",
              "  'Sentence': '[20][3][21]\\n\\n\\nText from https://en.wikipedia.org/wiki/Mary_Jackson_(engineer), adapted by the teaching team'}]"
            ]
          },
          "metadata": {},
          "execution_count": 61
        }
      ]
    },
    {
      "cell_type": "markdown",
      "metadata": {
        "id": "0LOC_Y0e5AOn"
      },
      "source": [
        "**Now, let's run your date expression procedure on the unseen text *MaryJackson.txt* and look at the resulting DataFrame.**\n",
        " "
      ]
    },
    {
      "cell_type": "markdown",
      "metadata": {
        "id": "_ByoHYvMBAJn"
      },
      "source": [
        "#### Task 9:  Apply extraction procedure to unseen text\n",
        "Currently, each of these \"adapted\" functions just uses the functions from the previous parts."
      ]
    },
    {
      "cell_type": "code",
      "metadata": {
        "id": "EjDEzbp2BAJo",
        "colab": {
          "base_uri": "https://localhost:8080/",
          "height": 758
        },
        "outputId": "9a348eb7-f4b5-46a8-a105-680b3081e38f"
      },
      "source": [
        "def sentence_tokenize_text_adapted(text):\n",
        "  \"\"\"\n",
        "  :param text: An input text, i.e. a string\n",
        "  :return: A list of strings, where each string is one sentence\n",
        "  \"\"\"\n",
        "  return sentence_tokenize_text(text)\n",
        "\n",
        "\n",
        "def extract_date_expressions_adapted(sentences):\n",
        "# \"\"\"\n",
        "#   :param sentences: A list of strings, where each string is one sentences\n",
        "#   :return: A pandas DataFrame with the columns \n",
        "#                 \"Date\" (extracted date expressions as a string)\n",
        "#                 \"Sentence\" (sentences from which a date expression was extracted)\n",
        "#   \"\"\"\n",
        "  return extract_date_expressions(sentences)\n",
        "  \n",
        "\n",
        "def date_expression_to_iso8601_adapted(date_string):\n",
        "  \"\"\"\n",
        "  :param date_string: A string containing a date expression\n",
        "  :return: A string containing the date in ISO 8601 format\n",
        "  \"\"\"\n",
        "  return date_expression_to_iso8601(date_string)\n",
        "\n",
        "\n",
        "def get_sorted_df_from_file_name_adapted(file_name):\n",
        "  #   \"\"\"\n",
        "  # :param file_name: A string containing the full path to a file\n",
        "  # :return: A pandas DataFrame with the columns \"Date\", \"Sentence\" and \"ISO\" \n",
        "  #         (see above), where rows are sorted according to \"ISO\"\n",
        "  # \"\"\"\n",
        "  return get_sorted_df_from_file_name(file_name)     \n",
        "df_mary_sorted=get_sorted_df_from_file_name_adapted('MaryJackson.txt')\n",
        "df_mary_sorted"
      ],
      "execution_count": null,
      "outputs": [
        {
          "output_type": "execute_result",
          "data": {
            "text/html": [
              "<div>\n",
              "<style scoped>\n",
              "    .dataframe tbody tr th:only-of-type {\n",
              "        vertical-align: middle;\n",
              "    }\n",
              "\n",
              "    .dataframe tbody tr th {\n",
              "        vertical-align: top;\n",
              "    }\n",
              "\n",
              "    .dataframe thead th {\n",
              "        text-align: right;\n",
              "    }\n",
              "</style>\n",
              "<table border=\"1\" class=\"dataframe\">\n",
              "  <thead>\n",
              "    <tr style=\"text-align: right;\">\n",
              "      <th></th>\n",
              "      <th>Date</th>\n",
              "      <th>Sentence</th>\n",
              "    </tr>\n",
              "    <tr>\n",
              "      <th>ISO</th>\n",
              "      <th></th>\n",
              "      <th></th>\n",
              "    </tr>\n",
              "  </thead>\n",
              "  <tbody>\n",
              "    <tr>\n",
              "      <th>1921-04-09</th>\n",
              "      <td>April 9, 1921</td>\n",
              "      <td>Mary Jackson (engineer)\\nFrom Wikipedia, the f...</td>\n",
              "    </tr>\n",
              "    <tr>\n",
              "      <th>1921-04-09</th>\n",
              "      <td>April 9, 1921</td>\n",
              "      <td>[3]\\n\\nPersonal life\\nMary Winston was born on...</td>\n",
              "    </tr>\n",
              "    <tr>\n",
              "      <th>1942-01-01</th>\n",
              "      <td>1942</td>\n",
              "      <td>[5]\\n\\nMary Jackson earned bachelor's degrees ...</td>\n",
              "    </tr>\n",
              "    <tr>\n",
              "      <th>1943-01-01</th>\n",
              "      <td>1943</td>\n",
              "      <td>[11]\\n\\nBy 1943, she had returned to Hampton, ...</td>\n",
              "    </tr>\n",
              "    <tr>\n",
              "      <th>1944-11-18</th>\n",
              "      <td>November 18, 1944</td>\n",
              "      <td>[7][8][5]\\n\\nJackson was married on November 1...</td>\n",
              "    </tr>\n",
              "    <tr>\n",
              "      <th>1951-01-01</th>\n",
              "      <td>1951</td>\n",
              "      <td>She started as a computer at the segregated We...</td>\n",
              "    </tr>\n",
              "    <tr>\n",
              "      <th>1951-01-01</th>\n",
              "      <td>1951</td>\n",
              "      <td>In 1951, she became a clerk at the Office of t...</td>\n",
              "    </tr>\n",
              "    <tr>\n",
              "      <th>1951-01-01</th>\n",
              "      <td>1951</td>\n",
              "      <td>[5][11]\\n\\nIn 1951, Jackson was recruited by t...</td>\n",
              "    </tr>\n",
              "    <tr>\n",
              "      <th>1953-01-01</th>\n",
              "      <td>1953</td>\n",
              "      <td>[5]\\n\\nIn 1953, she accepted an offer to work ...</td>\n",
              "    </tr>\n",
              "    <tr>\n",
              "      <th>1956-01-01</th>\n",
              "      <td>1956</td>\n",
              "      <td>[6]\\n\\nCareer\\n\\nJackson (first row, far right...</td>\n",
              "    </tr>\n",
              "    <tr>\n",
              "      <th>1958-01-01</th>\n",
              "      <td>1958</td>\n",
              "      <td>She took advanced engineering classes and, in ...</td>\n",
              "    </tr>\n",
              "    <tr>\n",
              "      <th>1958-01-01</th>\n",
              "      <td>1958</td>\n",
              "      <td>After completing the courses, she was promoted...</td>\n",
              "    </tr>\n",
              "    <tr>\n",
              "      <th>1970-01-01</th>\n",
              "      <td>1970</td>\n",
              "      <td>[5] She was noted in the 1970s for helping Afr...</td>\n",
              "    </tr>\n",
              "    <tr>\n",
              "      <th>1979-01-01</th>\n",
              "      <td>1979</td>\n",
              "      <td>[17]\\n\\nBy 1979, Jackson had achieved the most...</td>\n",
              "    </tr>\n",
              "    <tr>\n",
              "      <th>1985-01-01</th>\n",
              "      <td>1985</td>\n",
              "      <td>[5][17] She continued to work at NASA until he...</td>\n",
              "    </tr>\n",
              "    <tr>\n",
              "      <th>2005-02-11</th>\n",
              "      <td>February 11, 2005</td>\n",
              "      <td>[7] She died on February 11, 2005, age 83.</td>\n",
              "    </tr>\n",
              "    <tr>\n",
              "      <th>2016-01-01</th>\n",
              "      <td>2016</td>\n",
              "      <td>Jackson's story features in the 2016 non-ficti...</td>\n",
              "    </tr>\n",
              "    <tr>\n",
              "      <th>2016-01-01</th>\n",
              "      <td>2016</td>\n",
              "      <td>[6]\\n\\nLegacy\\nThe 2016 film Hidden Figures re...</td>\n",
              "    </tr>\n",
              "    <tr>\n",
              "      <th>2018-01-01</th>\n",
              "      <td>2018</td>\n",
              "      <td>[18]\\n\\nIn 2018, the Salt Lake City School Boa...</td>\n",
              "    </tr>\n",
              "    <tr>\n",
              "      <th>2019-01-01</th>\n",
              "      <td>2019</td>\n",
              "      <td>In 2019, Jackson was posthumously awarded the ...</td>\n",
              "    </tr>\n",
              "    <tr>\n",
              "      <th>2021-01-01</th>\n",
              "      <td>2021</td>\n",
              "      <td>[2] In 2021, the Washington, D.C. headquarters...</td>\n",
              "    </tr>\n",
              "    <tr>\n",
              "      <th>2021-02-26</th>\n",
              "      <td>February 26, 2021</td>\n",
              "      <td>[19]\\n\\nNASA's headquarters building in Washin...</td>\n",
              "    </tr>\n",
              "  </tbody>\n",
              "</table>\n",
              "</div>"
            ],
            "text/plain": [
              "                         Date                                           Sentence\n",
              "ISO                                                                             \n",
              "1921-04-09      April 9, 1921  Mary Jackson (engineer)\\nFrom Wikipedia, the f...\n",
              "1921-04-09      April 9, 1921  [3]\\n\\nPersonal life\\nMary Winston was born on...\n",
              "1942-01-01               1942  [5]\\n\\nMary Jackson earned bachelor's degrees ...\n",
              "1943-01-01               1943  [11]\\n\\nBy 1943, she had returned to Hampton, ...\n",
              "1944-11-18  November 18, 1944  [7][8][5]\\n\\nJackson was married on November 1...\n",
              "1951-01-01               1951  She started as a computer at the segregated We...\n",
              "1951-01-01               1951  In 1951, she became a clerk at the Office of t...\n",
              "1951-01-01               1951  [5][11]\\n\\nIn 1951, Jackson was recruited by t...\n",
              "1953-01-01               1953  [5]\\n\\nIn 1953, she accepted an offer to work ...\n",
              "1956-01-01               1956  [6]\\n\\nCareer\\n\\nJackson (first row, far right...\n",
              "1958-01-01               1958  She took advanced engineering classes and, in ...\n",
              "1958-01-01               1958  After completing the courses, she was promoted...\n",
              "1970-01-01               1970  [5] She was noted in the 1970s for helping Afr...\n",
              "1979-01-01               1979  [17]\\n\\nBy 1979, Jackson had achieved the most...\n",
              "1985-01-01               1985  [5][17] She continued to work at NASA until he...\n",
              "2005-02-11  February 11, 2005         [7] She died on February 11, 2005, age 83.\n",
              "2016-01-01               2016  Jackson's story features in the 2016 non-ficti...\n",
              "2016-01-01               2016  [6]\\n\\nLegacy\\nThe 2016 film Hidden Figures re...\n",
              "2018-01-01               2018  [18]\\n\\nIn 2018, the Salt Lake City School Boa...\n",
              "2019-01-01               2019  In 2019, Jackson was posthumously awarded the ...\n",
              "2021-01-01               2021  [2] In 2021, the Washington, D.C. headquarters...\n",
              "2021-02-26  February 26, 2021  [19]\\n\\nNASA's headquarters building in Washin..."
            ]
          },
          "metadata": {},
          "execution_count": 73
        }
      ]
    },
    {
      "cell_type": "markdown",
      "metadata": {
        "id": "iBlpaFHOBAJo"
      },
      "source": [
        "#### Task 10: Difficulties  encountered during the development of the time patterns and extracting the timeline. \n"
      ]
    },
    {
      "cell_type": "markdown",
      "metadata": {
        "id": "jYiKrWtjBAJo"
      },
      "source": [
        "\n",
        "I have to check manually carefully to see if I missed any time expression patterns, this requires manual labor effort. When extracting the timeline, to convert all time expressions to ISO format, I only kept the first time expression from the sentences which contain multiple time expressions, which means some time expressions are missing in the \"Date\" column.\n",
        "I made no adaptation to the functions for the biography of Mary Jackson because the time expressions are the same to Katherine Johnson's"
      ]
    },
    {
      "cell_type": "markdown",
      "metadata": {
        "id": "YOJbQGVj5hwV"
      },
      "source": [
        "**Now, we can evaluate your adapted date expression procedure. Let's plot one confusion matrix for each of the text files. **"
      ]
    },
    {
      "cell_type": "code",
      "metadata": {
        "id": "mZhQEZpi4-fE",
        "colab": {
          "base_uri": "https://localhost:8080/",
          "height": 922
        },
        "outputId": "b28596d8-52f7-46ee-8cae-5e3236f65e90"
      },
      "source": [
        "print('Confusion matrix for Katherine Johnson:')\n",
        "plot_confusion_matrix(manual_labels = katherine_manual_labels, \n",
        "                      sorted_date_df = get_sorted_df_from_file_name(os.path.join(working_dir, 'KatherineJohnson.txt')),\n",
        "                      normalize    = False,\n",
        "                      title_names = ['Positive','Negative'])\n",
        "\n",
        "print('Confusion matrix for Mary Jackson:')\n",
        "plot_confusion_matrix(manual_labels = mary_manual_labels, \n",
        "                      sorted_date_df = get_sorted_df_from_file_name_adapted(os.path.join(working_dir, 'MaryJackson.txt')),\n",
        "                      normalize    = False,\n",
        "                      title_names = ['Positive','Negative'])"
      ],
      "execution_count": null,
      "outputs": [
        {
          "output_type": "stream",
          "name": "stdout",
          "text": [
            "Confusion matrix for Katherine Johnson:\n"
          ]
        },
        {
          "output_type": "display_data",
          "data": {
            "image/png": "[encoded data removed]",
            "text/plain": [
              "<Figure size 576x432 with 1 Axes>"
            ]
          },
          "metadata": {
            "needs_background": "light"
          }
        },
        {
          "output_type": "stream",
          "name": "stdout",
          "text": [
            "Confusion matrix for Mary Jackson:\n"
          ]
        },
        {
          "output_type": "display_data",
          "data": {
            "image/png": "[encoded data removed]",
            "text/plain": [
              "<Figure size 576x432 with 1 Axes>"
            ]
          },
          "metadata": {
            "needs_background": "light"
          }
        }
      ]
    },
    {
      "cell_type": "markdown",
      "metadata": {
        "id": "Mis3cKpXBAJo"
      },
      "source": [
        "#### Task 11: Calculate the precision of the adapted date expression procedure on both KatherineJohnson.txt and MaryJackson.txt.\n",
        "\n"
      ]
    },
    {
      "cell_type": "markdown",
      "metadata": {
        "id": "YXBmTI_jBAJo"
      },
      "source": [
        "\n",
        "\n",
        "precision for KatherineJohnson.txt: TP/(TP+FP)=23/(23+0)=1\n",
        "\n",
        "precision for MaryJackson.txt: TP/(TP+FP)=25/(25+0)=1"
      ]
    },
    {
      "cell_type": "markdown",
      "metadata": {
        "id": "AuyKThl2BAJp"
      },
      "source": [
        "#### Task 12: Compare the precisions on KatherineJohnson.txt and MaryJackson.txt. Address the following points: \n",
        "- Are there any differences? \n",
        "\n",
        "No\n",
        "\n",
        "- If so, where does this difference come from? \n",
        "\n",
        "No difference, because the date expression patterns are the same in 2 biographies, the regexes compiled for KatherineJohnson text can be used to track date expressions in MaryJackson text.\n",
        "\n",
        "- What does this difference mean in terms of generalizability? \n",
        "\n",
        "That means my system is able to generalize to unseen text (to MaryJackson text). However, generalizabity to other texts is possible only if the unseen texts have the same date expression patterns as I specified in regex: \"[0-9]{4}|[A-Z]{1}[a-z]{1,9} [0-9]{1,2}, [0-9]{4}\" for the first text (KatherineJohnson), which includes the date expressions such as 4-digit year (eg. \"1990\"), or \"Month Day, Year\" (eg. July 20, 1992). If the unseen texts contain other expression patterns such as \"July-20-1992\", my regex could not track such expressions. In the short given text (KatherineJohnson), it is possible to screen as many date expression patterns as possible manually. In much longer texts, manual effort required would be intensive, even impossible. Therefore, this kind of manual rule-based system could miss date expression patterns if the unseen texts contain wider range of expressions. In such cases, precision score will be lower for unseen texts."
      ]
    },
    {
      "cell_type": "markdown",
      "metadata": {
        "id": "HQEmxaF3BAJp"
      },
      "source": [
        "### Finding matching events\n",
        "#### Task 13: Find the matching events (i.e. overlapping dates in the two biographical timelines) between the two timelines. \n",
        "\n"
      ]
    },
    {
      "cell_type": "code",
      "metadata": {
        "colab": {
          "base_uri": "https://localhost:8080/",
          "height": 357
        },
        "id": "K-EVh_SFIsg-",
        "outputId": "52157ff1-0a07-4a58-dfe9-777c8e5c9ee7"
      },
      "source": [
        "katherine_sorted_df=get_sorted_df_from_file_name(os.path.join(working_dir, 'KatherineJohnson.txt'))\n",
        "\n",
        "mary_sorted_df=get_sorted_df_from_file_name_adapted(os.path.join(working_dir, 'MaryJackson.txt'))\n",
        "katherine_sorted_df['matching_events']=katherine_sorted_df['Date']\n",
        "mary_sorted_df['matching_events']=mary_sorted_df['Date']\n",
        "\n",
        "matching_table=pd.merge(\n",
        "    katherine_sorted_df,\n",
        "    mary_sorted_df,\n",
        "    how=\"inner\",\n",
        "    on='matching_events', suffixes=('_Katherine', \"_Mary\"))\n",
        "matching_table\n"
      ],
      "execution_count": null,
      "outputs": [
        {
          "output_type": "execute_result",
          "data": {
            "text/html": [
              "<div>\n",
              "<style scoped>\n",
              "    .dataframe tbody tr th:only-of-type {\n",
              "        vertical-align: middle;\n",
              "    }\n",
              "\n",
              "    .dataframe tbody tr th {\n",
              "        vertical-align: top;\n",
              "    }\n",
              "\n",
              "    .dataframe thead th {\n",
              "        text-align: right;\n",
              "    }\n",
              "</style>\n",
              "<table border=\"1\" class=\"dataframe\">\n",
              "  <thead>\n",
              "    <tr style=\"text-align: right;\">\n",
              "      <th></th>\n",
              "      <th>Date_Katherine</th>\n",
              "      <th>Sentence_Katherine</th>\n",
              "      <th>matching_events</th>\n",
              "      <th>Date_Mary</th>\n",
              "      <th>Sentence_Mary</th>\n",
              "    </tr>\n",
              "  </thead>\n",
              "  <tbody>\n",
              "    <tr>\n",
              "      <th>0</th>\n",
              "      <td>1953</td>\n",
              "      <td>The family lived in Newport News, Virginia, fr...</td>\n",
              "      <td>1953</td>\n",
              "      <td>1953</td>\n",
              "      <td>[5]\\n\\nIn 1953, she accepted an offer to work ...</td>\n",
              "    </tr>\n",
              "    <tr>\n",
              "      <th>1</th>\n",
              "      <td>1953</td>\n",
              "      <td>Johnson accepted a job offer from the agency i...</td>\n",
              "      <td>1953</td>\n",
              "      <td>1953</td>\n",
              "      <td>[5]\\n\\nIn 1953, she accepted an offer to work ...</td>\n",
              "    </tr>\n",
              "    <tr>\n",
              "      <th>2</th>\n",
              "      <td>1953</td>\n",
              "      <td>[6]\\n\\nFrom 1953 to 1958, Johnson worked as a ...</td>\n",
              "      <td>1953</td>\n",
              "      <td>1953</td>\n",
              "      <td>[5]\\n\\nIn 1953, she accepted an offer to work ...</td>\n",
              "    </tr>\n",
              "    <tr>\n",
              "      <th>3</th>\n",
              "      <td>1956</td>\n",
              "      <td>James died of an inoperable brain tumor in 195...</td>\n",
              "      <td>1956</td>\n",
              "      <td>1956</td>\n",
              "      <td>[6]\\n\\nCareer\\n\\nJackson (first row, far right...</td>\n",
              "    </tr>\n",
              "    <tr>\n",
              "      <th>4</th>\n",
              "      <td>1958</td>\n",
              "      <td>From 1958 until her retirement in 1986, Johnso...</td>\n",
              "      <td>1958</td>\n",
              "      <td>1958</td>\n",
              "      <td>She took advanced engineering classes and, in ...</td>\n",
              "    </tr>\n",
              "    <tr>\n",
              "      <th>5</th>\n",
              "      <td>1958</td>\n",
              "      <td>From 1958 until her retirement in 1986, Johnso...</td>\n",
              "      <td>1958</td>\n",
              "      <td>1958</td>\n",
              "      <td>After completing the courses, she was promoted...</td>\n",
              "    </tr>\n",
              "    <tr>\n",
              "      <th>6</th>\n",
              "      <td>1958</td>\n",
              "      <td>\"[23]\\n\\nNACA disbanded the colored computing ...</td>\n",
              "      <td>1958</td>\n",
              "      <td>1958</td>\n",
              "      <td>She took advanced engineering classes and, in ...</td>\n",
              "    </tr>\n",
              "    <tr>\n",
              "      <th>7</th>\n",
              "      <td>1958</td>\n",
              "      <td>\"[23]\\n\\nNACA disbanded the colored computing ...</td>\n",
              "      <td>1958</td>\n",
              "      <td>1958</td>\n",
              "      <td>After completing the courses, she was promoted...</td>\n",
              "    </tr>\n",
              "    <tr>\n",
              "      <th>8</th>\n",
              "      <td>1970</td>\n",
              "      <td>[1] In 1970, Johnson worked on the Apollo 13 M...</td>\n",
              "      <td>1970</td>\n",
              "      <td>1970</td>\n",
              "      <td>[5] She was noted in the 1970s for helping Afr...</td>\n",
              "    </tr>\n",
              "    <tr>\n",
              "      <th>9</th>\n",
              "      <td>2019</td>\n",
              "      <td>the pair were married for 60 years until his d...</td>\n",
              "      <td>2019</td>\n",
              "      <td>2019</td>\n",
              "      <td>In 2019, Jackson was posthumously awarded the ...</td>\n",
              "    </tr>\n",
              "  </tbody>\n",
              "</table>\n",
              "</div>"
            ],
            "text/plain": [
              "  Date_Katherine  ...                                      Sentence_Mary\n",
              "0           1953  ...  [5]\\n\\nIn 1953, she accepted an offer to work ...\n",
              "1           1953  ...  [5]\\n\\nIn 1953, she accepted an offer to work ...\n",
              "2           1953  ...  [5]\\n\\nIn 1953, she accepted an offer to work ...\n",
              "3           1956  ...  [6]\\n\\nCareer\\n\\nJackson (first row, far right...\n",
              "4           1958  ...  She took advanced engineering classes and, in ...\n",
              "5           1958  ...  After completing the courses, she was promoted...\n",
              "6           1958  ...  She took advanced engineering classes and, in ...\n",
              "7           1958  ...  After completing the courses, she was promoted...\n",
              "8           1970  ...  [5] She was noted in the 1970s for helping Afr...\n",
              "9           2019  ...  In 2019, Jackson was posthumously awarded the ...\n",
              "\n",
              "[10 rows x 5 columns]"
            ]
          },
          "metadata": {},
          "execution_count": 79
        }
      ]
    },
    {
      "cell_type": "markdown",
      "metadata": {
        "id": "seCjCDB5BAJp"
      },
      "source": [
        "\n",
        "I used Python code to find matching events, by finding the dates that are the same in two dataframes of KatherineJohnson and MaryJackson.\n",
        "\n",
        "\n",
        "The list of matching events is stored in variable \"list_matching_events\" below"
      ]
    },
    {
      "cell_type": "code",
      "metadata": {
        "colab": {
          "base_uri": "https://localhost:8080/"
        },
        "id": "q3yUV0VSRNfs",
        "outputId": "226834c1-8be3-4d32-8ee0-e742494e5531"
      },
      "source": [
        "list_matching_events=matching_table['matching_events']\n",
        "\n",
        "list_matching_events"
      ],
      "execution_count": null,
      "outputs": [
        {
          "output_type": "execute_result",
          "data": {
            "text/plain": [
              "0   1953-01-01\n",
              "1   1953-01-01\n",
              "2   1953-01-01\n",
              "3   1956-01-01\n",
              "4   1958-01-01\n",
              "5   1958-01-01\n",
              "6   1958-01-01\n",
              "7   1958-01-01\n",
              "8   1970-01-01\n",
              "9   2019-01-01\n",
              "Name: matching_events, dtype: datetime64[ns]"
            ]
          },
          "metadata": {},
          "execution_count": 75
        }
      ]
    },
    {
      "cell_type": "markdown",
      "metadata": {
        "id": "EMoICcPCBAJq"
      },
      "source": [
        "#### Task 14: Discussion of matching events \n",
        "1. Discuss the list of matching events found. \n",
        "\n",
        "The list of matching events showed that only dates in the sentences which contains only one date expression can be found as matching. In case one sentence contains multiple date expressions, though one or more of the dates in both text match, they could not be found as matching events. For example, the sentence in MaryJackson.txt \"Mary Jackson (née Winston;[1] April 9, 1921 – February 11, 2005) was an American mathematician and aerospace engineer at the National Advisory Committee for Aeronautics (NACA), which in 1958 was succeeded by the National Aeronautics and Space Administration (NASA).\" contains multiple time expressions \"1921\", \"2005\" and \"1958\", and the sentence in KatherineJohnson.txt \"From 1953 to 1958, Johnson worked as a computer,[21] analyzing topics such as gust alleviation for aircraft.\" contains multiple time expressions \"1953\" and \"1958\". The matching time is 1958, however,  the time expression \"1958\" could not be found as matching event. \n",
        "\n",
        "Meanwhile, some sentences which contain only one time expression such as in MaryJackson.txt: \"In 1953, she accepted an offer to work for engineer Kazimierz Czarnecki in the Supersonic Pressure Tunnel.\"\n",
        " and in KatherineJohnson.txt: \"The family lived in Newport News, Virginia, from 1953.\" The time \"1953\" could be found as matching events. \n",
        "\n",
        "\n",
        "2. When going through the texts manually, some matching events could not be found programmatically/automatically?\n",
        "\n",
        "Yes, as mentioned above, some dates contained in the sentences which hold multiple time expressions could not be found as matching events, though the dates are the same between the two.\n",
        "\n",
        "3. If so, what could be the reason(s) for this? \n",
        "\n",
        "The mechanism of finding matching events is that, the pandas library looks for the cells which contain the same values and join the two dataframes into new one which contains matching values (the same time expressions). For example, in a timeline dataframe, one cell contains expression \"1958\", the cell of the other dataframe contains also \"1958\". They are string values. The built-in function considers them as the same string values, so those expressions could be interpreted as matching. However, in some cases, for instance, in KatherineJohnson text, \"From 1953 to 1958, Johnson worked as a ...\" contains multiple dates such as \"1953\" and \"1958\", and in MaryJackson text, \"she was promoted to aerospace engineer in 1958\" contains \"1958\" as date expressions, however, 1958 could not be found as matching events here, because right from the start, I could not manage to extract the second expression \"1958\" into the timeline from the sentence holding multiple date expressions, only \"1953\" was extracted only. Since the date is missing in the timeline dataframe, the system could not track them. \n",
        "\n",
        "This issue is also the difficulty I encountered. I have difficulty in writing up the code/regex which can compile all date expressions from the sentences which hold multiple time expressions. If I try to extract all dates from the sentences containing multiple time expressions, it would be impossible to create a timeline in a dataframe due to different data shapes."
      ]
    }
  ]
}